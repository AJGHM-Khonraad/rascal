{
 "cells": [
  {
   "cell_type": "code",
   "execution_count": 1,
   "metadata": {},
   "outputs": [
    {
     "data": {
      "text/html": [
       "<img src = ./generated_code/images/input.png>"
      ]
     },
     "execution_count": 1,
     "metadata": {},
     "output_type": "execute_result"
    }
   ],
   "source": [
    "Image<int32_t> input = load_image(\"/Users/mveranom/rgb.png\");"
   ]
  },
  {
   "cell_type": "code",
   "execution_count": 2,
   "metadata": {
    "collapsed": true
   },
   "outputs": [],
   "source": [
    "Halide::Func blur(Image<int32_t> input) {\n",
    "\tFunc blur_x, blur_y;\n",
    "\tHalide::Func hola, kernel;\n",
    "\tVar x, y, c, xi, yi;\n",
    "\tfloat sigma = 1.5f;\n",
    "\tkernel(x) = exp(x*x/(2*sigma*sigma))/(sqrtf(2*M_PI)*sigma);\n",
    "\tFunc in_bounded = BoundaryConditions::repeat_edge(input);\n",
    "\t\n",
    "\tblur_x(x, y, c) = (in_bounded(x-1, y, c) + in_bounded(x, y, c) + in_bounded(x+1, y, c))/3;\n",
    "\tblur_y(x, y, c) = (blur_x(x, y-1, c) + blur_x(x, y, c) + blur_x(x, y+1, c))/3;\n",
    "\t\t\n",
    "\treturn blur_y;\n",
    "}"
   ]
  },
  {
   "cell_type": "code",
   "execution_count": 3,
   "metadata": {
    "collapsed": true
   },
   "outputs": [],
   "source": [
    "Image<int32_t> output1 = run( blur(input), input.width(), input.height(), input.channels());"
   ]
  },
  {
   "cell_type": "code",
   "execution_count": 4,
   "metadata": {},
   "outputs": [
    {
     "data": {
      "text/html": [
       "<img src = ./generated_code/images/output1.png>"
      ]
     },
     "execution_count": 4,
     "metadata": {},
     "output_type": "execute_result"
    }
   ],
   "source": [
    "render_image(output1);"
   ]
  },
  {
   "cell_type": "code",
   "execution_count": null,
   "metadata": {
    "collapsed": true
   },
   "outputs": [],
   "source": [
    "Image<int32_t> output = run( blur(input), input.width(), input.height(), input.channels());"
   ]
  },
  {
   "cell_type": "code",
   "execution_count": null,
   "metadata": {},
   "outputs": [],
   "source": [
    "render_image(output);"
   ]
  },
  {
   "cell_type": "code",
   "execution_count": null,
   "metadata": {
    "collapsed": true
   },
   "outputs": [],
   "source": []
  }
 ],
 "metadata": {
  "kernelspec": {
   "display_name": "halide Kernel",
   "language": "halide",
   "name": "halide"
  },
  "language_info": {
   "codemirror_mode": {
    "name": "halide"
   },
   "file_extension": ".rsc",
   "mimetype": "text/x-rascal",
   "name": "Rascal",
   "version": "1.8.0_77"
  }
 },
 "nbformat": 4,
 "nbformat_minor": 2
}
